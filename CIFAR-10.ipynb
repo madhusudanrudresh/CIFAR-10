{
 "cells": [
  {
   "cell_type": "markdown",
   "metadata": {},
   "source": [
    "## Importing the libraries"
   ]
  },
  {
   "cell_type": "code",
   "execution_count": 32,
   "metadata": {},
   "outputs": [],
   "source": [
    "import keras\n",
    "from keras.datasets import cifar10\n",
    "from keras.utils import to_categorical\n",
    "from keras.preprocessing.image import ImageDataGenerator\n",
    "from keras.models import Sequential\n",
    "from keras.layers import Dense, Dropout, Activation, Flatten\n",
    "from keras.layers import Conv2D, MaxPooling2D\n",
    "import os\n",
    "import matplotlib.pyplot as plt"
   ]
  },
  {
   "cell_type": "markdown",
   "metadata": {},
   "source": [
    "## Importing the cifar-10 dataset"
   ]
  },
  {
   "cell_type": "code",
   "execution_count": 60,
   "metadata": {},
   "outputs": [
    {
     "name": "stdout",
     "output_type": "stream",
     "text": [
      "x_train shape: (50000, 32, 32, 3)\n",
      "50000 train samples\n",
      "10000 test samples\n"
     ]
    }
   ],
   "source": [
    "# The data, split between train and test sets:\n",
    "(x_train, y_train), (x_test, y_test) = cifar10.load_data()\n",
    "print('x_train shape:', x_train.shape)\n",
    "print(x_train.shape[0], 'train samples')\n",
    "print(x_test.shape[0], 'test samples')"
   ]
  },
  {
   "cell_type": "code",
   "execution_count": 61,
   "metadata": {},
   "outputs": [
    {
     "data": {
      "text/plain": [
       "<matplotlib.image.AxesImage at 0x263e640c9b0>"
      ]
     },
     "execution_count": 61,
     "metadata": {},
     "output_type": "execute_result"
    },
    {
     "data": {
      "image/png": "[encoded data removed]",
      "text/plain": [
       "<Figure size 432x288 with 1 Axes>"
      ]
     },
     "metadata": {
      "needs_background": "light"
     },
     "output_type": "display_data"
    }
   ],
   "source": [
    "plt.imshow(x_train[2])"
   ]
  },
  {
   "cell_type": "code",
   "execution_count": 62,
   "metadata": {},
   "outputs": [],
   "source": [
    "labels = ['airplane', 'automobile', 'bird', 'cat', 'deer', 'dog', 'frog', 'horse', 'ship', 'truck']"
   ]
  },
  {
   "cell_type": "code",
   "execution_count": 63,
   "metadata": {},
   "outputs": [
    {
     "name": "stdout",
     "output_type": "stream",
     "text": [
      "The Training samples for AIRPLANE is: 5000\n",
      "The Training samples for AUTOMOBILE is: 5000\n",
      "The Training samples for BIRD is: 5000\n",
      "The Training samples for CAT is: 5000\n",
      "The Training samples for DEER is: 5000\n",
      "The Training samples for DOG is: 5000\n",
      "The Training samples for FROG is: 5000\n",
      "The Training samples for HORSE is: 5000\n",
      "The Training samples for SHIP is: 5000\n",
      "The Training samples for TRUCK is: 5000\n"
     ]
    }
   ],
   "source": [
    "for i in range(len(labels)):      ## Checking for the number of samples present in train dataset\n",
    "    print('The Training samples for {} is: {}'.format(labels[i].upper(), len(y_train[y_train==i])))"
   ]
  },
  {
   "cell_type": "code",
   "execution_count": 64,
   "metadata": {},
   "outputs": [
    {
     "name": "stdout",
     "output_type": "stream",
     "text": [
      "The Training samples for AIRPLANE is: 1000\n",
      "The Training samples for AUTOMOBILE is: 1000\n",
      "The Training samples for BIRD is: 1000\n",
      "The Training samples for CAT is: 1000\n",
      "The Training samples for DEER is: 1000\n",
      "The Training samples for DOG is: 1000\n",
      "The Training samples for FROG is: 1000\n",
      "The Training samples for HORSE is: 1000\n",
      "The Training samples for SHIP is: 1000\n",
      "The Training samples for TRUCK is: 1000\n"
     ]
    }
   ],
   "source": [
    "for i in range(len(labels)):     ## Checking for the number of samples present in test dataset\n",
    "    print('The Training samples for {} is: {}'.format(labels[i].upper(), len(y_test[y_test==i])))"
   ]
  },
  {
   "cell_type": "markdown",
   "metadata": {},
   "source": [
    "There are equal number of samples for all the categories in the training and testing dataset"
   ]
  },
  {
   "cell_type": "markdown",
   "metadata": {},
   "source": [
    "## Pre-processing the dataset\n",
    "We will scale the predictor features contained in x_train and x_test to values between 0 and 1. Then, we will use one-hot encoding for the categorical data present in y_train and y_test"
   ]
  },
  {
   "cell_type": "code",
   "execution_count": 67,
   "metadata": {},
   "outputs": [
    {
     "name": "stdout",
     "output_type": "stream",
     "text": [
      "number of training examples = 50000\n",
      "number of test examples = 10000\n",
      "X_train shape: (50000, 32, 32, 3)\n",
      "Y_train shape: (50000, 10)\n",
      "X_test shape: (10000, 32, 32, 3)\n",
      "Y_test shape: (10000, 10)\n"
     ]
    }
   ],
   "source": [
    "x_train = x_train.astype('float32')\n",
    "x_test = x_test.astype('float32')\n",
    "x_train = x_train/255.\n",
    "x_test = x_test/255.\n",
    "y_train = to_categorical(y_train,num_classes)\n",
    "y_test = to_categorical(y_test,num_classes)\n",
    "print (\"number of training examples = \" + str(x_train.shape[0]))\n",
    "print (\"number of test examples = \" + str(x_test.shape[0]))\n",
    "print (\"X_train shape: \" + str(x_train.shape))\n",
    "print (\"Y_train shape: \" + str(y_train.shape))\n",
    "print (\"X_test shape: \" + str(x_test.shape))\n",
    "print (\"Y_test shape: \" + str(y_test.shape))"
   ]
  },
  {
   "cell_type": "markdown",
   "metadata": {},
   "source": [
    "## Simple CNN Model\n",
    "\n",
    "We will be building a simple 4 layer Convolutional Neural Network for this dataset followed by maxpooling and flattening out of the network to make the predictions."
   ]
  },
  {
   "cell_type": "code",
   "execution_count": 68,
   "metadata": {},
   "outputs": [],
   "source": [
    "model = Sequential()\n",
    "\n",
    "model.add(Conv2D(32, (3, 3), padding='same', input_shape=x_train.shape[1:]))\n",
    "model.add(Activation('relu'))\n",
    "model.add(Conv2D(32, (3, 3)))\n",
    "model.add(Activation('relu'))\n",
    "model.add(MaxPooling2D(pool_size=(2, 2)))\n",
    "model.add(Dropout(0.25))                 ## Dropout of 0.25 is used to prevent the model from overfitting. \n",
    "\n",
    "model.add(Conv2D(64, (3, 3), padding='same'))\n",
    "model.add(Activation('relu'))\n",
    "model.add(Conv2D(64, (3, 3)))\n",
    "model.add(Activation('relu'))\n",
    "model.add(MaxPooling2D(pool_size=(2, 2)))\n",
    "model.add(Dropout(0.25))                 ## Dropout of 0.25 is used to prevent the model from overfitting. \n",
    "\n",
    "model.add(Flatten())                     ## Flattening out of the network to one dimensional vec\n",
    "model.add(Dense(512))\n",
    "model.add(Activation('relu'))\n",
    "model.add(Dropout(0.5))\n",
    "model.add(Dense(num_classes))\n",
    "model.add(Activation('softmax'))         ## Softmax activation is used for classfication of images"
   ]
  },
  {
   "cell_type": "markdown",
   "metadata": {},
   "source": [
    "model.summary()         ## Here is the summary of all the layers in the CNN model"
   ]
  },
  {
   "cell_type": "markdown",
   "metadata": {},
   "source": [
    "Adam optimization will be used here as it generally works well with most of the neural network architectures"
   ]
  },
  {
   "cell_type": "code",
   "execution_count": 70,
   "metadata": {},
   "outputs": [],
   "source": [
    "adam = keras.optimizers.Adam(lr=0.0001)"
   ]
  },
  {
   "cell_type": "code",
   "execution_count": 71,
   "metadata": {},
   "outputs": [],
   "source": [
    "model.compile(loss='categorical_crossentropy', optimizer=adam, metrics=['accuracy'])"
   ]
  },
  {
   "cell_type": "code",
   "execution_count": 66,
   "metadata": {},
   "outputs": [],
   "source": [
    "num_classes = 10\n",
    "batch_size = 32\n",
    "epoch = 100"
   ]
  },
  {
   "cell_type": "code",
   "execution_count": 72,
   "metadata": {},
   "outputs": [
    {
     "name": "stdout",
     "output_type": "stream",
     "text": [
      "Train on 50000 samples, validate on 10000 samples\n",
      "Epoch 1/100\n",
      "50000/50000 [==============================] - 205s 4ms/step - loss: 1.7833 - acc: 0.3449 - val_loss: 1.5324 - val_acc: 0.4433\n",
      "Epoch 2/100\n",
      "50000/50000 [==============================] - 212s 4ms/step - loss: 1.4633 - acc: 0.4646 - val_loss: 1.3008 - val_acc: 0.5392\n",
      "Epoch 3/100\n",
      "50000/50000 [==============================] - 215s 4ms/step - loss: 1.3260 - acc: 0.5204 - val_loss: 1.1996 - val_acc: 0.5788\n",
      "Epoch 4/100\n",
      "50000/50000 [==============================] - 222s 4ms/step - loss: 1.2302 - acc: 0.5633 - val_loss: 1.1079 - val_acc: 0.6024\n",
      "Epoch 5/100\n",
      "50000/50000 [==============================] - 218s 4ms/step - loss: 1.1519 - acc: 0.5905 - val_loss: 1.0473 - val_acc: 0.6313\n",
      "Epoch 6/100\n",
      "50000/50000 [==============================] - 217s 4ms/step - loss: 1.0836 - acc: 0.6158 - val_loss: 1.0041 - val_acc: 0.6510\n",
      "Epoch 7/100\n",
      "50000/50000 [==============================] - 223s 4ms/step - loss: 1.0282 - acc: 0.6384 - val_loss: 0.9483 - val_acc: 0.6673\n",
      "Epoch 8/100\n",
      "50000/50000 [==============================] - 225s 4ms/step - loss: 0.9759 - acc: 0.6584 - val_loss: 0.8982 - val_acc: 0.6864\n",
      "Epoch 9/100\n",
      "50000/50000 [==============================] - 221s 4ms/step - loss: 0.9315 - acc: 0.6733 - val_loss: 0.8859 - val_acc: 0.6886\n",
      "Epoch 10/100\n",
      "50000/50000 [==============================] - 222s 4ms/step - loss: 0.8911 - acc: 0.6891 - val_loss: 0.8355 - val_acc: 0.7077\n",
      "Epoch 11/100\n",
      "50000/50000 [==============================] - 226s 5ms/step - loss: 0.8528 - acc: 0.7027 - val_loss: 0.8057 - val_acc: 0.7229\n",
      "Epoch 12/100\n",
      "50000/50000 [==============================] - 225s 4ms/step - loss: 0.8176 - acc: 0.7136 - val_loss: 0.7859 - val_acc: 0.7259\n",
      "Epoch 13/100\n",
      "50000/50000 [==============================] - 229s 5ms/step - loss: 0.7891 - acc: 0.7254 - val_loss: 0.7671 - val_acc: 0.7345\n",
      "Epoch 14/100\n",
      "50000/50000 [==============================] - 228s 5ms/step - loss: 0.7605 - acc: 0.7351 - val_loss: 0.7351 - val_acc: 0.7462\n",
      "Epoch 15/100\n",
      "50000/50000 [==============================] - 228s 5ms/step - loss: 0.7375 - acc: 0.7424 - val_loss: 0.7597 - val_acc: 0.7354\n",
      "Epoch 16/100\n",
      "50000/50000 [==============================] - 226s 5ms/step - loss: 0.7081 - acc: 0.7524 - val_loss: 0.7286 - val_acc: 0.7488\n",
      "Epoch 17/100\n",
      "50000/50000 [==============================] - 221s 4ms/step - loss: 0.6888 - acc: 0.7599 - val_loss: 0.7002 - val_acc: 0.7577\n",
      "Epoch 18/100\n",
      "50000/50000 [==============================] - 224s 4ms/step - loss: 0.6648 - acc: 0.7674 - val_loss: 0.6869 - val_acc: 0.7612\n",
      "Epoch 19/100\n",
      "50000/50000 [==============================] - 217s 4ms/step - loss: 0.6464 - acc: 0.7736 - val_loss: 0.7030 - val_acc: 0.7560\n",
      "Epoch 20/100\n",
      "50000/50000 [==============================] - 222s 4ms/step - loss: 0.6265 - acc: 0.7811 - val_loss: 0.6724 - val_acc: 0.7672\n",
      "Epoch 21/100\n",
      "50000/50000 [==============================] - 215s 4ms/step - loss: 0.6079 - acc: 0.7875 - val_loss: 0.6748 - val_acc: 0.7666\n",
      "Epoch 22/100\n",
      "50000/50000 [==============================] - 207s 4ms/step - loss: 0.5856 - acc: 0.7951 - val_loss: 0.6675 - val_acc: 0.7703\n",
      "Epoch 23/100\n",
      "50000/50000 [==============================] - 215s 4ms/step - loss: 0.5682 - acc: 0.8001 - val_loss: 0.6501 - val_acc: 0.7758\n",
      "Epoch 24/100\n",
      "50000/50000 [==============================] - 217s 4ms/step - loss: 0.5564 - acc: 0.8046 - val_loss: 0.6495 - val_acc: 0.7756\n",
      "Epoch 25/100\n",
      "50000/50000 [==============================] - 216s 4ms/step - loss: 0.5389 - acc: 0.8098 - val_loss: 0.6440 - val_acc: 0.7788\n",
      "Epoch 26/100\n",
      "50000/50000 [==============================] - 225s 5ms/step - loss: 0.5231 - acc: 0.8167 - val_loss: 0.6372 - val_acc: 0.7832\n",
      "Epoch 27/100\n",
      "50000/50000 [==============================] - 231s 5ms/step - loss: 0.5098 - acc: 0.8203 - val_loss: 0.6400 - val_acc: 0.7838\n",
      "Epoch 28/100\n",
      "50000/50000 [==============================] - 227s 5ms/step - loss: 0.4915 - acc: 0.8260 - val_loss: 0.6368 - val_acc: 0.7835\n",
      "Epoch 29/100\n",
      "50000/50000 [==============================] - 234s 5ms/step - loss: 0.4817 - acc: 0.8301 - val_loss: 0.6325 - val_acc: 0.7846\n",
      "Epoch 30/100\n",
      "50000/50000 [==============================] - 226s 5ms/step - loss: 0.4719 - acc: 0.8362 - val_loss: 0.6349 - val_acc: 0.7866\n",
      "Epoch 31/100\n",
      "50000/50000 [==============================] - 229s 5ms/step - loss: 0.4574 - acc: 0.8398 - val_loss: 0.6270 - val_acc: 0.7908\n",
      "Epoch 32/100\n",
      "50000/50000 [==============================] - 223s 4ms/step - loss: 0.4432 - acc: 0.8435 - val_loss: 0.6206 - val_acc: 0.7921\n",
      "Epoch 33/100\n",
      "50000/50000 [==============================] - 228s 5ms/step - loss: 0.4342 - acc: 0.8459 - val_loss: 0.6371 - val_acc: 0.7888\n",
      "Epoch 34/100\n",
      "50000/50000 [==============================] - 230s 5ms/step - loss: 0.4190 - acc: 0.8507 - val_loss: 0.6277 - val_acc: 0.7896\n",
      "Epoch 35/100\n",
      "50000/50000 [==============================] - 218s 4ms/step - loss: 0.4113 - acc: 0.8528 - val_loss: 0.6303 - val_acc: 0.7919\n",
      "Epoch 36/100\n",
      "50000/50000 [==============================] - 217s 4ms/step - loss: 0.4051 - acc: 0.8571 - val_loss: 0.6196 - val_acc: 0.7938\n",
      "Epoch 37/100\n",
      "50000/50000 [==============================] - 220s 4ms/step - loss: 0.3929 - acc: 0.8602 - val_loss: 0.6341 - val_acc: 0.7951\n",
      "Epoch 38/100\n",
      "50000/50000 [==============================] - 217s 4ms/step - loss: 0.3840 - acc: 0.8635 - val_loss: 0.6324 - val_acc: 0.7907\n",
      "Epoch 39/100\n",
      "50000/50000 [==============================] - 213s 4ms/step - loss: 0.3719 - acc: 0.8689 - val_loss: 0.6293 - val_acc: 0.7922\n",
      "Epoch 40/100\n",
      "50000/50000 [==============================] - 212s 4ms/step - loss: 0.3653 - acc: 0.8700 - val_loss: 0.6337 - val_acc: 0.7932\n",
      "Epoch 41/100\n",
      "50000/50000 [==============================] - 212s 4ms/step - loss: 0.3561 - acc: 0.8721 - val_loss: 0.6439 - val_acc: 0.7895\n",
      "Epoch 42/100\n",
      "50000/50000 [==============================] - 222s 4ms/step - loss: 0.3442 - acc: 0.8757 - val_loss: 0.6455 - val_acc: 0.7906\n",
      "Epoch 43/100\n",
      "50000/50000 [==============================] - 213s 4ms/step - loss: 0.3411 - acc: 0.8781 - val_loss: 0.6304 - val_acc: 0.7985\n",
      "Epoch 44/100\n",
      "50000/50000 [==============================] - 212s 4ms/step - loss: 0.3343 - acc: 0.8822 - val_loss: 0.6285 - val_acc: 0.7969\n",
      "Epoch 45/100\n",
      "50000/50000 [==============================] - 211s 4ms/step - loss: 0.3255 - acc: 0.8840 - val_loss: 0.6301 - val_acc: 0.7956\n",
      "Epoch 46/100\n",
      "50000/50000 [==============================] - 210s 4ms/step - loss: 0.3159 - acc: 0.8875 - val_loss: 0.6368 - val_acc: 0.7971\n",
      "Epoch 47/100\n",
      "50000/50000 [==============================] - 210s 4ms/step - loss: 0.3126 - acc: 0.8892 - val_loss: 0.6487 - val_acc: 0.7966\n",
      "Epoch 48/100\n",
      "50000/50000 [==============================] - 207s 4ms/step - loss: 0.3010 - acc: 0.8913 - val_loss: 0.6426 - val_acc: 0.7978\n",
      "Epoch 49/100\n",
      "50000/50000 [==============================] - 207s 4ms/step - loss: 0.2963 - acc: 0.8942 - val_loss: 0.6485 - val_acc: 0.7979\n",
      "Epoch 50/100\n",
      "50000/50000 [==============================] - 207s 4ms/step - loss: 0.2890 - acc: 0.8960 - val_loss: 0.6400 - val_acc: 0.8001\n",
      "Epoch 51/100\n",
      "50000/50000 [==============================] - 207s 4ms/step - loss: 0.2876 - acc: 0.8980 - val_loss: 0.6413 - val_acc: 0.7984\n",
      "Epoch 52/100\n",
      "50000/50000 [==============================] - 205s 4ms/step - loss: 0.2830 - acc: 0.8992 - val_loss: 0.6351 - val_acc: 0.8020\n",
      "Epoch 53/100\n",
      "50000/50000 [==============================] - 204s 4ms/step - loss: 0.2715 - acc: 0.9029 - val_loss: 0.6685 - val_acc: 0.7980\n",
      "Epoch 54/100\n",
      "50000/50000 [==============================] - 207s 4ms/step - loss: 0.2761 - acc: 0.9018 - val_loss: 0.6481 - val_acc: 0.7996\n",
      "Epoch 55/100\n",
      "50000/50000 [==============================] - 205s 4ms/step - loss: 0.2627 - acc: 0.9074 - val_loss: 0.6579 - val_acc: 0.7935\n",
      "Epoch 56/100\n",
      "50000/50000 [==============================] - 206s 4ms/step - loss: 0.2620 - acc: 0.9072 - val_loss: 0.6656 - val_acc: 0.8006\n",
      "Epoch 57/100\n",
      "50000/50000 [==============================] - 206s 4ms/step - loss: 0.2574 - acc: 0.9089 - val_loss: 0.6749 - val_acc: 0.7949\n",
      "Epoch 58/100\n",
      "50000/50000 [==============================] - 208s 4ms/step - loss: 0.2504 - acc: 0.9098 - val_loss: 0.6526 - val_acc: 0.8008\n",
      "Epoch 59/100\n"
     ]
    },
    {
     "name": "stdout",
     "output_type": "stream",
     "text": [
      "50000/50000 [==============================] - 203s 4ms/step - loss: 0.2497 - acc: 0.9113 - val_loss: 0.6535 - val_acc: 0.8013\n",
      "Epoch 60/100\n",
      "50000/50000 [==============================] - 205s 4ms/step - loss: 0.2427 - acc: 0.9140 - val_loss: 0.6430 - val_acc: 0.8007\n",
      "Epoch 61/100\n",
      "50000/50000 [==============================] - 204s 4ms/step - loss: 0.2436 - acc: 0.9121 - val_loss: 0.6618 - val_acc: 0.8029\n",
      "Epoch 62/100\n",
      "50000/50000 [==============================] - 205s 4ms/step - loss: 0.2336 - acc: 0.9157 - val_loss: 0.6693 - val_acc: 0.8018\n",
      "Epoch 63/100\n",
      "50000/50000 [==============================] - 204s 4ms/step - loss: 0.2340 - acc: 0.9162 - val_loss: 0.6709 - val_acc: 0.8027\n",
      "Epoch 64/100\n",
      "50000/50000 [==============================] - 205s 4ms/step - loss: 0.2279 - acc: 0.9183 - val_loss: 0.6554 - val_acc: 0.8023\n",
      "Epoch 65/100\n",
      "50000/50000 [==============================] - 205s 4ms/step - loss: 0.2274 - acc: 0.9194 - val_loss: 0.6856 - val_acc: 0.7992\n",
      "Epoch 66/100\n",
      "50000/50000 [==============================] - 206s 4ms/step - loss: 0.2212 - acc: 0.9205 - val_loss: 0.6675 - val_acc: 0.8032\n",
      "Epoch 67/100\n",
      "50000/50000 [==============================] - 212s 4ms/step - loss: 0.2244 - acc: 0.9200 - val_loss: 0.6602 - val_acc: 0.7994\n",
      "Epoch 68/100\n",
      "50000/50000 [==============================] - 211s 4ms/step - loss: 0.2166 - acc: 0.9227 - val_loss: 0.6795 - val_acc: 0.8004\n",
      "Epoch 69/100\n",
      "50000/50000 [==============================] - 212s 4ms/step - loss: 0.2118 - acc: 0.9248 - val_loss: 0.6800 - val_acc: 0.8004\n",
      "Epoch 70/100\n",
      "50000/50000 [==============================] - 210s 4ms/step - loss: 0.2090 - acc: 0.9254 - val_loss: 0.6723 - val_acc: 0.8037\n",
      "Epoch 71/100\n",
      "50000/50000 [==============================] - 211s 4ms/step - loss: 0.2064 - acc: 0.9262 - val_loss: 0.6905 - val_acc: 0.8012\n",
      "Epoch 72/100\n",
      "50000/50000 [==============================] - 211s 4ms/step - loss: 0.2053 - acc: 0.9272 - val_loss: 0.7018 - val_acc: 0.7999\n",
      "Epoch 73/100\n",
      "50000/50000 [==============================] - 210s 4ms/step - loss: 0.2036 - acc: 0.9280 - val_loss: 0.6912 - val_acc: 0.8045\n",
      "Epoch 74/100\n",
      "50000/50000 [==============================] - 212s 4ms/step - loss: 0.1986 - acc: 0.9289 - val_loss: 0.6950 - val_acc: 0.8008\n",
      "Epoch 75/100\n",
      "50000/50000 [==============================] - 209s 4ms/step - loss: 0.1969 - acc: 0.9288 - val_loss: 0.6887 - val_acc: 0.8015\n",
      "Epoch 76/100\n",
      "50000/50000 [==============================] - 208s 4ms/step - loss: 0.1985 - acc: 0.9290 - val_loss: 0.6895 - val_acc: 0.8017\n",
      "Epoch 77/100\n",
      "50000/50000 [==============================] - 208s 4ms/step - loss: 0.1902 - acc: 0.9331 - val_loss: 0.6845 - val_acc: 0.8062\n",
      "Epoch 78/100\n",
      "50000/50000 [==============================] - 209s 4ms/step - loss: 0.1979 - acc: 0.9291 - val_loss: 0.6890 - val_acc: 0.8020\n",
      "Epoch 79/100\n",
      "50000/50000 [==============================] - 207s 4ms/step - loss: 0.1900 - acc: 0.9332 - val_loss: 0.7068 - val_acc: 0.7977\n",
      "Epoch 80/100\n",
      "50000/50000 [==============================] - 208s 4ms/step - loss: 0.1886 - acc: 0.9330 - val_loss: 0.6842 - val_acc: 0.8056\n",
      "Epoch 81/100\n",
      "50000/50000 [==============================] - 208s 4ms/step - loss: 0.1868 - acc: 0.9342 - val_loss: 0.6890 - val_acc: 0.8062\n",
      "Epoch 82/100\n",
      "50000/50000 [==============================] - 209s 4ms/step - loss: 0.1868 - acc: 0.9335 - val_loss: 0.6931 - val_acc: 0.8025\n",
      "Epoch 83/100\n",
      "50000/50000 [==============================] - 210s 4ms/step - loss: 0.1824 - acc: 0.9354 - val_loss: 0.6851 - val_acc: 0.8083\n",
      "Epoch 84/100\n",
      "50000/50000 [==============================] - 208s 4ms/step - loss: 0.1765 - acc: 0.9363 - val_loss: 0.7092 - val_acc: 0.8054\n",
      "Epoch 85/100\n",
      "50000/50000 [==============================] - 208s 4ms/step - loss: 0.1820 - acc: 0.9357 - val_loss: 0.7030 - val_acc: 0.8059\n",
      "Epoch 86/100\n",
      "50000/50000 [==============================] - 208s 4ms/step - loss: 0.1778 - acc: 0.9371 - val_loss: 0.7003 - val_acc: 0.8076\n",
      "Epoch 87/100\n",
      "50000/50000 [==============================] - 210s 4ms/step - loss: 0.1752 - acc: 0.9376 - val_loss: 0.6875 - val_acc: 0.8081\n",
      "Epoch 88/100\n",
      "50000/50000 [==============================] - 209s 4ms/step - loss: 0.1758 - acc: 0.9386 - val_loss: 0.6830 - val_acc: 0.8068\n",
      "Epoch 89/100\n",
      "50000/50000 [==============================] - 210s 4ms/step - loss: 0.1706 - acc: 0.9389 - val_loss: 0.7200 - val_acc: 0.8034\n",
      "Epoch 90/100\n",
      "50000/50000 [==============================] - 220s 4ms/step - loss: 0.1708 - acc: 0.9395 - val_loss: 0.6907 - val_acc: 0.8056\n",
      "Epoch 91/100\n",
      "50000/50000 [==============================] - 211s 4ms/step - loss: 0.1666 - acc: 0.9400 - val_loss: 0.7064 - val_acc: 0.8053\n",
      "Epoch 92/100\n",
      "50000/50000 [==============================] - 212s 4ms/step - loss: 0.1666 - acc: 0.9398 - val_loss: 0.7102 - val_acc: 0.8033\n",
      "Epoch 93/100\n",
      "50000/50000 [==============================] - 212s 4ms/step - loss: 0.1646 - acc: 0.9415 - val_loss: 0.7199 - val_acc: 0.8063\n",
      "Epoch 94/100\n",
      "50000/50000 [==============================] - 215s 4ms/step - loss: 0.1638 - acc: 0.9418 - val_loss: 0.7380 - val_acc: 0.8078\n",
      "Epoch 95/100\n",
      "50000/50000 [==============================] - 211s 4ms/step - loss: 0.1626 - acc: 0.9425 - val_loss: 0.7518 - val_acc: 0.8039\n",
      "Epoch 96/100\n",
      "50000/50000 [==============================] - 213s 4ms/step - loss: 0.1588 - acc: 0.9436 - val_loss: 0.7031 - val_acc: 0.8090\n",
      "Epoch 97/100\n",
      "50000/50000 [==============================] - 212s 4ms/step - loss: 0.1594 - acc: 0.9454 - val_loss: 0.7213 - val_acc: 0.8073\n",
      "Epoch 98/100\n",
      "50000/50000 [==============================] - 211s 4ms/step - loss: 0.1594 - acc: 0.9436 - val_loss: 0.7001 - val_acc: 0.8076\n",
      "Epoch 99/100\n",
      "50000/50000 [==============================] - 210s 4ms/step - loss: 0.1567 - acc: 0.9448 - val_loss: 0.7168 - val_acc: 0.8094\n",
      "Epoch 100/100\n",
      "50000/50000 [==============================] - 222s 4ms/step - loss: 0.1527 - acc: 0.9451 - val_loss: 0.7313 - val_acc: 0.8077\n"
     ]
    },
    {
     "data": {
      "text/plain": [
       "<keras.callbacks.History at 0x2638a18b8d0>"
      ]
     },
     "execution_count": 72,
     "metadata": {},
     "output_type": "execute_result"
    }
   ],
   "source": [
    "model.fit(x=x_train,             ## We will be fitting the training data and labels into the model\n",
    "          y=y_train,\n",
    "          validation_data=(x_test,y_test),\n",
    "          batch_size=batch_size,\n",
    "          epochs=epoch,\n",
    "          verbose=1)"
   ]
  },
  {
   "cell_type": "code",
   "execution_count": 78,
   "metadata": {},
   "outputs": [
    {
     "data": {
      "image/png": "[encoded data removed]",
      "text/plain": [
       "<Figure size 432x288 with 1 Axes>"
      ]
     },
     "metadata": {
      "needs_background": "light"
     },
     "output_type": "display_data"
    }
   ],
   "source": [
    "# summarize history for accuracy\n",
    "plt.plot(model.history.history['acc'])\n",
    "plt.plot(model.history.history['val_acc'])\n",
    "plt.title('model accuracy')\n",
    "plt.ylabel('accuracy')\n",
    "plt.xlabel('epoch')\n",
    "plt.legend(['train', 'test'], loc='upper left')\n",
    "plt.show()"
   ]
  },
  {
   "cell_type": "code",
   "execution_count": 79,
   "metadata": {},
   "outputs": [
    {
     "data": {
      "image/png": "[encoded data removed]",
      "text/plain": [
       "<Figure size 432x288 with 1 Axes>"
      ]
     },
     "metadata": {
      "needs_background": "light"
     },
     "output_type": "display_data"
    }
   ],
   "source": [
    "# summarize history for loss\n",
    "plt.plot(model.history.history['loss'])\n",
    "plt.plot(model.history.history['val_loss'])\n",
    "plt.title('model loss')\n",
    "plt.ylabel('loss')\n",
    "plt.xlabel('epoch')\n",
    "plt.legend(['train', 'test'], loc='upper left')\n",
    "plt.show()"
   ]
  },
  {
   "cell_type": "code",
   "execution_count": null,
   "metadata": {},
   "outputs": [],
   "source": []
  }
 ],
 "metadata": {
  "kernelspec": {
   "display_name": "Python 3.6 (tensorflow)",
   "language": "python",
   "name": "tensorflow"
  },
  "language_info": {
   "codemirror_mode": {
    "name": "ipython",
    "version": 3
   },
   "file_extension": ".py",
   "mimetype": "text/x-python",
   "name": "python",
   "nbconvert_exporter": "python",
   "pygments_lexer": "ipython3",
   "version": "3.6.8"
  }
 },
 "nbformat": 4,
 "nbformat_minor": 2
}
